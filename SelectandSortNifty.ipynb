{
 "cells": [
  {
   "cell_type": "markdown",
   "metadata": {},
   "source": [
    "have the collated nifty for few mins at a min interval . in this notebook will just select the closing price per minute and date time along with it. "
   ]
  },
  {
   "cell_type": "code",
   "execution_count": 83,
   "metadata": {
    "collapsed": true
   },
   "outputs": [],
   "source": [
    "import pandas as pd\n",
    "import numpy as np\n",
    "import datetime\n",
    "import matplotlib.pyplot as plt"
   ]
  },
  {
   "cell_type": "code",
   "execution_count": 84,
   "metadata": {},
   "outputs": [],
   "source": [
    "\n",
    "nifty  = pd.read_csv('/Users/maheshwarip/Documents/dataScience/char_nifty_reg/combinedNifty.csv')\n",
    "\n",
    "\n",
    "\n",
    "newCol = nifty[['DATE','TIME','PRICE']]\n",
    "\n",
    "newCol['DateandTime'] =  pd.to_datetime(newCol['DATE'].map(str) + \" \" + newCol['TIME'].apply( lambda x: x+':00') , infer_datetime_format=True )\n",
    "\n",
    "newCol.sort_values('DateandTime',inplace=True)\n",
    "\n",
    "newCol.to_csv('/Users/maheshwarip/Documents/dataScience/char_nifty_reg/niftysorted.csv')"
   ]
  },
  {
   "cell_type": "code",
   "execution_count": null,
   "metadata": {
    "collapsed": true
   },
   "outputs": [],
   "source": []
  }
 ],
 "metadata": {
  "kernelspec": {
   "display_name": "Python 3",
   "language": "python",
   "name": "python3"
  },
  "language_info": {
   "codemirror_mode": {
    "name": "ipython",
    "version": 3
   },
   "file_extension": ".py",
   "mimetype": "text/x-python",
   "name": "python",
   "nbconvert_exporter": "python",
   "pygments_lexer": "ipython3",
   "version": "3.6.3"
  }
 },
 "nbformat": 4,
 "nbformat_minor": 2
}
