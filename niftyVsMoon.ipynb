{
 "cells": [
  {
   "cell_type": "code",
   "execution_count": 61,
   "metadata": {
    "collapsed": true
   },
   "outputs": [],
   "source": [
    "import pandas as pd\n",
    "import numpy as np\n",
    "import datetime\n",
    "import matplotlib.pyplot as plt"
   ]
  },
  {
   "cell_type": "code",
   "execution_count": 62,
   "metadata": {},
   "outputs": [
    {
     "data": {
      "text/html": [
       "<div>\n",
       "<style scoped>\n",
       "    .dataframe tbody tr th:only-of-type {\n",
       "        vertical-align: middle;\n",
       "    }\n",
       "\n",
       "    .dataframe tbody tr th {\n",
       "        vertical-align: top;\n",
       "    }\n",
       "\n",
       "    .dataframe thead th {\n",
       "        text-align: right;\n",
       "    }\n",
       "</style>\n",
       "<table border=\"1\" class=\"dataframe\">\n",
       "  <thead>\n",
       "    <tr style=\"text-align: right;\">\n",
       "      <th></th>\n",
       "      <th>Date</th>\n",
       "      <th>Open</th>\n",
       "      <th>High</th>\n",
       "      <th>Low</th>\n",
       "      <th>Close</th>\n",
       "      <th>Adj Close</th>\n",
       "      <th>Volume</th>\n",
       "    </tr>\n",
       "  </thead>\n",
       "  <tbody>\n",
       "    <tr>\n",
       "      <th>0</th>\n",
       "      <td>2017-01-02</td>\n",
       "      <td>8210.099609</td>\n",
       "      <td>8212.000000</td>\n",
       "      <td>8133.799805</td>\n",
       "      <td>8179.500000</td>\n",
       "      <td>8179.500000</td>\n",
       "      <td>118300</td>\n",
       "    </tr>\n",
       "    <tr>\n",
       "      <th>1</th>\n",
       "      <td>2017-01-03</td>\n",
       "      <td>8196.049805</td>\n",
       "      <td>8219.099609</td>\n",
       "      <td>8148.600098</td>\n",
       "      <td>8192.250000</td>\n",
       "      <td>8192.250000</td>\n",
       "      <td>127300</td>\n",
       "    </tr>\n",
       "    <tr>\n",
       "      <th>2</th>\n",
       "      <td>2017-01-04</td>\n",
       "      <td>8202.650391</td>\n",
       "      <td>8218.500000</td>\n",
       "      <td>8180.899902</td>\n",
       "      <td>8190.500000</td>\n",
       "      <td>8190.500000</td>\n",
       "      <td>132400</td>\n",
       "    </tr>\n",
       "    <tr>\n",
       "      <th>3</th>\n",
       "      <td>2017-01-05</td>\n",
       "      <td>8226.650391</td>\n",
       "      <td>8282.650391</td>\n",
       "      <td>8223.700195</td>\n",
       "      <td>8273.799805</td>\n",
       "      <td>8273.799805</td>\n",
       "      <td>159100</td>\n",
       "    </tr>\n",
       "    <tr>\n",
       "      <th>4</th>\n",
       "      <td>2017-01-06</td>\n",
       "      <td>8281.849609</td>\n",
       "      <td>8306.849609</td>\n",
       "      <td>8233.250000</td>\n",
       "      <td>8243.799805</td>\n",
       "      <td>8243.799805</td>\n",
       "      <td>139400</td>\n",
       "    </tr>\n",
       "  </tbody>\n",
       "</table>\n",
       "</div>"
      ],
      "text/plain": [
       "         Date         Open         High          Low        Close  \\\n",
       "0  2017-01-02  8210.099609  8212.000000  8133.799805  8179.500000   \n",
       "1  2017-01-03  8196.049805  8219.099609  8148.600098  8192.250000   \n",
       "2  2017-01-04  8202.650391  8218.500000  8180.899902  8190.500000   \n",
       "3  2017-01-05  8226.650391  8282.650391  8223.700195  8273.799805   \n",
       "4  2017-01-06  8281.849609  8306.849609  8233.250000  8243.799805   \n",
       "\n",
       "     Adj Close  Volume  \n",
       "0  8179.500000  118300  \n",
       "1  8192.250000  127300  \n",
       "2  8190.500000  132400  \n",
       "3  8273.799805  159100  \n",
       "4  8243.799805  139400  "
      ]
     },
     "execution_count": 62,
     "metadata": {},
     "output_type": "execute_result"
    }
   ],
   "source": [
    "from pandas_datareader import data as pdr\n",
    "\n",
    "\n",
    "#nifty = pdr.get_data_yahoo('^NSEI', \n",
    " #                         start=datetime.datetime(2017, 1, 1), \n",
    "  #                        end=datetime.datetime(2017, 12, 20))\n",
    "\n",
    "\n",
    "\n",
    "#nifty.to_csv('/Users/maheshwarip/Documents/dataScience/savednifty50oneyear.csv')\n",
    "\n",
    "nifty  = pd.read_csv('/Users/maheshwarip/Documents/dataScience/savednifty50oneyear.csv')\n",
    "nifty.head()\n"
   ]
  },
  {
   "cell_type": "code",
   "execution_count": 80,
   "metadata": {
    "collapsed": true
   },
   "outputs": [],
   "source": [
    "# Assign `Adj Close` to `daily_close`\n",
    "daily_close = nifty[['Adj Close']]\n",
    "\n",
    "\n",
    "# Daily returns\n",
    "daily_pct_c = daily_close.pct_change()\n",
    "\n",
    "\n",
    "# Replace NA values with 0\n",
    "daily_pct_c.fillna(0, inplace=True)\n",
    "\n",
    "# Inspect daily returns\n",
    "#print(daily_pct_c)\n",
    "\n",
    "\n",
    "nifty['daily_pct_c'] = daily_pct_c \n",
    "\n",
    "\n",
    "nifty_date_change = nifty[[ 'Date','daily_pct_c']]\n",
    "\n",
    "\n",
    "#print(nifty_date_change)\n",
    "\n",
    "nifty_date_change.to_csv('/Users/maheshwarip/Documents/dataScience/percent_Change2017.csv')"
   ]
  },
  {
   "cell_type": "code",
   "execution_count": null,
   "metadata": {
    "collapsed": true
   },
   "outputs": [],
   "source": []
  }
 ],
 "metadata": {
  "kernelspec": {
   "display_name": "Python 3",
   "language": "python",
   "name": "python3"
  },
  "language_info": {
   "codemirror_mode": {
    "name": "ipython",
    "version": 3
   },
   "file_extension": ".py",
   "mimetype": "text/x-python",
   "name": "python",
   "nbconvert_exporter": "python",
   "pygments_lexer": "ipython3",
   "version": "3.6.3"
  }
 },
 "nbformat": 4,
 "nbformat_minor": 2
}
